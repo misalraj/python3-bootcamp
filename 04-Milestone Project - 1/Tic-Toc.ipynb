{
 "cells": [
  {
   "cell_type": "code",
   "execution_count": 1,
   "id": "3e4768c4",
   "metadata": {},
   "outputs": [],
   "source": [
    "import random\n",
    "from IPython.display import clear_output"
   ]
  },
  {
   "cell_type": "code",
   "execution_count": 2,
   "id": "e61939fd",
   "metadata": {},
   "outputs": [],
   "source": [
    "def display_board(board):\n",
    "    '''\n",
    "    Display board\n",
    "    '''\n",
    "    clear_output()\n",
    "        \n",
    "    print(f\"{board[7]:<2}|{board[8]:^3}|{board[9]:>2}\")\n",
    "    print(f\"{'':-^9}\")\n",
    "    print(f\"{board[4]:<2}|{board[5]:^3}|{board[6]:>2}\")\n",
    "    print(f\"{'':-^9}\")\n",
    "    print(f\"{board[1]:<2}|{board[2]:^3}|{board[3]:>2}\")"
   ]
  },
  {
   "cell_type": "code",
   "execution_count": 3,
   "id": "52821c27",
   "metadata": {},
   "outputs": [],
   "source": [
    "# test_board = ['#',' ',' ',' ',' ',' ',' ',' ',' ',' ']\n",
    "# display_board(test_board)"
   ]
  },
  {
   "cell_type": "code",
   "execution_count": 4,
   "id": "63574926",
   "metadata": {},
   "outputs": [],
   "source": [
    "def select_player_input():\n",
    "    '''\n",
    "    select player marker either 'X' or 'O'\n",
    "    '''\n",
    "    while True:\n",
    "        marker = input('Player 1: Do you want to use X or O? ').upper()\n",
    "        if marker == 'X' or marker == 'O':\n",
    "            if marker == 'X':\n",
    "                return 'X', 'O' \n",
    "            else:\n",
    "                return 'O','X'\n",
    "        else:\n",
    "            pass"
   ]
  },
  {
   "cell_type": "code",
   "execution_count": 5,
   "id": "253a646a",
   "metadata": {},
   "outputs": [],
   "source": [
    "# select_player_input()"
   ]
  },
  {
   "cell_type": "code",
   "execution_count": 6,
   "id": "ccafd116",
   "metadata": {},
   "outputs": [],
   "source": [
    "def place_marker(board, marker,position):\n",
    "    '''\n",
    "    place the marker upon user choice\n",
    "    '''\n",
    "    board[position]= marker"
   ]
  },
  {
   "cell_type": "code",
   "execution_count": 7,
   "id": "2e56773b",
   "metadata": {},
   "outputs": [],
   "source": [
    "# place_marker('X',7)\n",
    "# display_board(test_board)"
   ]
  },
  {
   "cell_type": "code",
   "execution_count": 8,
   "id": "d83cc3d4",
   "metadata": {},
   "outputs": [],
   "source": [
    "def win_check(board,mark):\n",
    "    \n",
    "    return ((board[7] == mark and board[8] == mark and board[9] == mark) or # across the top\n",
    "    (board[4] == mark and board[5] == mark and board[6] == mark) or # across the middle\n",
    "    (board[1] == mark and board[2] == mark and board[3] == mark) or # across the bottom\n",
    "    (board[7] == mark and board[4] == mark and board[1] == mark) or # down the middle\n",
    "    (board[8] == mark and board[5] == mark and board[2] == mark) or # down the middle\n",
    "    (board[9] == mark and board[6] == mark and board[3] == mark) or # down the right side\n",
    "    (board[7] == mark and board[5] == mark and board[3] == mark) or # diagonal\n",
    "    (board[9] == mark and board[5] == mark and board[1] == mark)) # diagonal"
   ]
  },
  {
   "cell_type": "code",
   "execution_count": 9,
   "id": "fc95699a",
   "metadata": {},
   "outputs": [],
   "source": [
    "# win_check(test_board,'X')    print(player1_marker)\n"
   ]
  },
  {
   "cell_type": "code",
   "execution_count": 10,
   "id": "a05c796c",
   "metadata": {},
   "outputs": [],
   "source": [
    "def choose_first_player():\n",
    "    if random.randint(0,1) == 0:\n",
    "        return 'player 1'\n",
    "    else:\n",
    "        return 'player 2'"
   ]
  },
  {
   "cell_type": "code",
   "execution_count": 11,
   "id": "75380992",
   "metadata": {},
   "outputs": [],
   "source": [
    "# choose_first_player()"
   ]
  },
  {
   "cell_type": "code",
   "execution_count": 12,
   "id": "2ef9c99b",
   "metadata": {},
   "outputs": [],
   "source": [
    "def space_check(board, position):\n",
    "    \n",
    "    return board[position] == ' '"
   ]
  },
  {
   "cell_type": "code",
   "execution_count": 13,
   "id": "a833d60d",
   "metadata": {},
   "outputs": [],
   "source": [
    "def full_board_check(board):\n",
    "    for i in range(1,10):\n",
    "        if space_check(board, i):\n",
    "            return False\n",
    "    return True"
   ]
  },
  {
   "cell_type": "code",
   "execution_count": 14,
   "id": "e55c95c2",
   "metadata": {},
   "outputs": [],
   "source": [
    "def player_choice(board, turn, marker):\n",
    "    position = 0\n",
    "    \n",
    "    while position not in [1,2,3,4,5,6,7,8,9] or not space_check(board, position):\n",
    "        position = int(input(f\"{turn} -->'[{marker}]' Choose your next position: (1-9) \"))\n",
    "        \n",
    "    return position"
   ]
  },
  {
   "cell_type": "code",
   "execution_count": 15,
   "id": "3d263bb3",
   "metadata": {},
   "outputs": [],
   "source": [
    "def replay():\n",
    "    while True:\n",
    "        return input('Do you want to play again? Enter Yes or No: ').lower().startswith('y')"
   ]
  },
  {
   "cell_type": "code",
   "execution_count": 16,
   "id": "22ae1c43",
   "metadata": {},
   "outputs": [],
   "source": [
    "# replay()"
   ]
  },
  {
   "cell_type": "code",
   "execution_count": null,
   "id": "86e4b994",
   "metadata": {},
   "outputs": [
    {
     "name": "stdout",
     "output_type": "stream",
     "text": [
      "  |   | O\n",
      "---------\n",
      "  |   |  \n",
      "---------\n",
      "X |   |  \n"
     ]
    }
   ],
   "source": [
    "print('Welcome to Tic-Toc game')\n",
    "\n",
    "while True:\n",
    "    # Reset the board\n",
    "    the_board = [' ']*10\n",
    "    player1_marker, player2_marker = select_player_input()\n",
    "    turn = choose_first_player()\n",
    "    print(turn + ' will go first.')\n",
    "    \n",
    "    play_game = input('Are you ready to play? Enter Yes or No.')\n",
    "    \n",
    "    if play_game.lower()[0] == 'y':\n",
    "        game_on = True\n",
    "    else:\n",
    "        game_on = False\n",
    "            \n",
    "    while game_on:\n",
    "        if turn == 'player 1':\n",
    "            display_board(the_board)\n",
    "            position = player_choice(the_board, turn, player1_marker)\n",
    "            place_marker(the_board,player1_marker,position)\n",
    "            \n",
    "            if win_check(the_board, player1_marker):\n",
    "                display_board(the_board)\n",
    "                print('Congratulations! You have won the game!')\n",
    "                game_on = False\n",
    "            else:\n",
    "                if full_board_check(the_board):\n",
    "                    display_board(the_board)\n",
    "                    print('The game is a draw!')\n",
    "                    break\n",
    "                else:\n",
    "                    turn = 'Player 2'\n",
    "        else:\n",
    "            # Player2's turn.\n",
    "            \n",
    "            display_board(the_board)\n",
    "            position = player_choice(the_board, turn, player2_marker)\n",
    "            place_marker(the_board, player2_marker, position)\n",
    "\n",
    "            if win_check(the_board, player2_marker):\n",
    "                display_board(the_board)\n",
    "                print('Player 2 has won!')\n",
    "                game_on = False\n",
    "            else:\n",
    "                if full_board_check(the_board):\n",
    "                    display_board(the_board)\n",
    "                    print('The game is a draw!')\n",
    "                    break\n",
    "                else:\n",
    "                    turn = 'Player 1'\n",
    "\n",
    "    if not replay():\n",
    "        break"
   ]
  },
  {
   "cell_type": "code",
   "execution_count": null,
   "id": "1d9fa019",
   "metadata": {},
   "outputs": [],
   "source": [
    "player1_marker, player2_marker = select_player_input()\n"
   ]
  },
  {
   "cell_type": "code",
   "execution_count": null,
   "id": "a108e23f",
   "metadata": {},
   "outputs": [],
   "source": [
    "player2_marker"
   ]
  },
  {
   "cell_type": "code",
   "execution_count": null,
   "id": "0f111d58",
   "metadata": {},
   "outputs": [],
   "source": []
  }
 ],
 "metadata": {
  "kernelspec": {
   "display_name": "Python 3",
   "language": "python",
   "name": "python3"
  },
  "language_info": {
   "codemirror_mode": {
    "name": "ipython",
    "version": 3
   },
   "file_extension": ".py",
   "mimetype": "text/x-python",
   "name": "python",
   "nbconvert_exporter": "python",
   "pygments_lexer": "ipython3",
   "version": "3.9.4"
  }
 },
 "nbformat": 4,
 "nbformat_minor": 5
}
